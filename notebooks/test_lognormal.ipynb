{
 "cells": [
  {
   "cell_type": "code",
   "execution_count": 1,
   "metadata": {},
   "outputs": [],
   "source": [
    "import matplotlib.pyplot as plt\n",
    "import numpy as np \n",
    "import pandas as pd\n",
    "\n",
    "from scipy import integrate\n",
    "from scipy.special import exp1\n",
    "from scipy import stats\n",
    "from scipy.stats import lognorm\n",
    "from scipy.interpolate import make_interp_spline\n",
    "\n",
    "from models import LognormalDisKin\n",
    "from constants import INTERP_14C, C14_DATA\n",
    "\n",
    "# NOTE: LognormalDisKin is not ready for use"
   ]
  },
  {
   "cell_type": "code",
   "execution_count": 2,
   "metadata": {},
   "outputs": [
    {
     "name": "stdout",
     "output_type": "stream",
     "text": [
      "30.000000000000014 1000.000000000001\n",
      "-3.295836866004329 1.8725805449485964\n",
      "0.0 0\n"
     ]
    }
   ],
   "source": [
    "ln_diskin = LognormalDisKin.from_age_and_transit_time(1000, 30)\n",
    "print(ln_diskin.T, ln_diskin.a)\n",
    "print(ln_diskin.mu, ln_diskin.sigma)\n",
    "val, err = integrate.dblquad(ln_diskin.mean_age_integrand, 0, 1e6, 0, 1e5)\n",
    "print(val, err)"
   ]
  },
  {
   "cell_type": "code",
   "execution_count": 3,
   "metadata": {},
   "outputs": [
    {
     "name": "stdout",
     "output_type": "stream",
     "text": [
      "Estimated age distribution integral: 9.733979751331893e-08 +/- 1.93464960791224e-07\n"
     ]
    }
   ],
   "source": [
    "ln_diskin = LognormalDisKin(mu=-1, sigma=1.5)\n",
    "val, err = integrate.quad(ln_diskin.age_dist_integrand, 0, 1e6, epsabs=1e-6)\n",
    "print(f'Estimated age distribution integral: {val} +/- {err}')"
   ]
  },
  {
   "cell_type": "code",
   "execution_count": 4,
   "metadata": {},
   "outputs": [
    {
     "name": "stdout",
     "output_type": "stream",
     "text": [
      "Estimated radiocarbon ratio: 11378627.862250797 +/- 21382906.180875614\n",
      "Relative error: 187.9216583909431%\n"
     ]
    },
    {
     "name": "stderr",
     "output_type": "stream",
     "text": [
      "/Users/flamholz/Library/Python/3.9/lib/python/site-packages/scipy/integrate/_quadpack_py.py:1233: IntegrationWarning: The algorithm does not converge.  Roundoff error is detected\n",
      "  in the extrapolation table.  It is assumed that the requested tolerance\n",
      "  cannot be achieved, and that the returned result (if full_output = 1) is \n",
      "  the best which can be obtained.\n",
      "  quad_r = quad(f, low, high, args=args, full_output=self.full_output,\n"
     ]
    }
   ],
   "source": [
    "ln_diskin = LognormalDisKin(mu=-1, sigma=1.5)\n",
    "val, err = integrate.dblquad(ln_diskin.radiocarbon_age_integrand, 0, 1e6, 0, 1e6, epsabs=1e-6)\n",
    "print(f'Estimated radiocarbon ratio: {val} +/- {err}')\n",
    "print(f'Relative error: {100*err/val}%')"
   ]
  },
  {
   "cell_type": "code",
   "execution_count": 5,
   "metadata": {},
   "outputs": [
    {
     "data": {
      "text/plain": [
       "QMCQuadResult(integral=30708555.74474452, standard_error=26735272.952454366)"
      ]
     },
     "execution_count": 5,
     "metadata": {},
     "output_type": "execute_result"
    }
   ],
   "source": [
    "ln_diskin = LognormalDisKin(mu=-1, sigma=1.5)\n",
    "result = integrate.qmc_quad(ln_diskin.radiocarbon_age_integrand_mc, [0, 0], [1e6, 1e6],\n",
    "                            n_estimates=1000, n_points=int(1e4))\n",
    "result"
   ]
  },
  {
   "cell_type": "code",
   "execution_count": null,
   "metadata": {},
   "outputs": [],
   "source": []
  }
 ],
 "metadata": {
  "kernelspec": {
   "display_name": "Python 3",
   "language": "python",
   "name": "python3"
  },
  "language_info": {
   "codemirror_mode": {
    "name": "ipython",
    "version": 3
   },
   "file_extension": ".py",
   "mimetype": "text/x-python",
   "name": "python",
   "nbconvert_exporter": "python",
   "pygments_lexer": "ipython3",
   "version": "3.9.6"
  }
 },
 "nbformat": 4,
 "nbformat_minor": 2
}
