{
 "cells": [
  {
   "cell_type": "code",
   "execution_count": 1,
   "metadata": {},
   "outputs": [],
   "source": [
    "import matplotlib.pyplot as plt\n",
    "import numpy as np \n",
    "import pandas as pd\n",
    "\n",
    "from scipy import integrate\n",
    "from scipy.special import exp1\n",
    "from scipy import stats\n",
    "from scipy.stats import lognorm\n",
    "from scipy.interpolate import make_interp_spline\n",
    "\n",
    "from models import LognormalDisKin\n",
    "\n",
    "# NOTE: LognormalDisKin is not ready for use"
   ]
  },
  {
   "cell_type": "code",
   "execution_count": 2,
   "metadata": {},
   "outputs": [
    {
     "name": "stdout",
     "output_type": "stream",
     "text": [
      "30.000000000000014 1000.000000000001\n",
      "-3.295836866004329 1.8725805449485964\n",
      "0.0 0\n"
     ]
    }
   ],
   "source": [
    "ln_diskin = LognormalDisKin.from_age_and_transit_time(1000, 30)\n",
    "print(ln_diskin.T, ln_diskin.a)\n",
    "print(ln_diskin.mu, ln_diskin.sigma)\n",
    "val, err = integrate.dblquad(ln_diskin.mean_age_integrand, 0, 1e6, 0, 1e5)\n",
    "print(val, err)"
   ]
  },
  {
   "cell_type": "code",
   "execution_count": 3,
   "metadata": {},
   "outputs": [
    {
     "name": "stdout",
     "output_type": "stream",
     "text": [
      "Estimated age distribution integral: 9.733979751331893e-08 +/- 1.93464960791224e-07\n"
     ]
    }
   ],
   "source": [
    "ln_diskin = LognormalDisKin(mu=-1, sigma=1.5)\n",
    "val, err = integrate.quad(ln_diskin.age_dist_integrand, 0, 1e6, epsabs=1e-6)\n",
    "print(f'Estimated age distribution integral: {val} +/- {err}')"
   ]
  },
  {
   "cell_type": "code",
   "execution_count": null,
   "metadata": {},
   "outputs": [
    {
     "ename": "TypeError",
     "evalue": "dblquad() got an unexpected keyword argument 'limit'",
     "output_type": "error",
     "traceback": [
      "\u001b[0;31m---------------------------------------------------------------------------\u001b[0m",
      "\u001b[0;31mTypeError\u001b[0m                                 Traceback (most recent call last)",
      "Cell \u001b[0;32mIn[5], line 2\u001b[0m\n\u001b[1;32m      1\u001b[0m ln_diskin \u001b[38;5;241m=\u001b[39m LognormalDisKin(mu\u001b[38;5;241m=\u001b[39m\u001b[38;5;241m-\u001b[39m\u001b[38;5;241m1\u001b[39m, sigma\u001b[38;5;241m=\u001b[39m\u001b[38;5;241m1.5\u001b[39m)\n\u001b[0;32m----> 2\u001b[0m val, err \u001b[38;5;241m=\u001b[39m \u001b[43mintegrate\u001b[49m\u001b[38;5;241;43m.\u001b[39;49m\u001b[43mdblquad\u001b[49m\u001b[43m(\u001b[49m\u001b[43mln_diskin\u001b[49m\u001b[38;5;241;43m.\u001b[39;49m\u001b[43mradiocarbon_age_integrand\u001b[49m\u001b[43m,\u001b[49m\u001b[43m \u001b[49m\u001b[38;5;241;43m0\u001b[39;49m\u001b[43m,\u001b[49m\u001b[43m \u001b[49m\u001b[38;5;241;43m1e6\u001b[39;49m\u001b[43m,\u001b[49m\u001b[43m \u001b[49m\u001b[38;5;241;43m0\u001b[39;49m\u001b[43m,\u001b[49m\u001b[43m \u001b[49m\u001b[38;5;241;43m1e6\u001b[39;49m\u001b[43m,\u001b[49m\u001b[43m \u001b[49m\u001b[43mepsabs\u001b[49m\u001b[38;5;241;43m=\u001b[39;49m\u001b[38;5;241;43m1e-6\u001b[39;49m\u001b[43m,\u001b[49m\u001b[43m \u001b[49m\u001b[43mlimit\u001b[49m\u001b[38;5;241;43m=\u001b[39;49m\u001b[38;5;241;43m10000\u001b[39;49m\u001b[43m)\u001b[49m\n\u001b[1;32m      3\u001b[0m \u001b[38;5;28mprint\u001b[39m(\u001b[38;5;124mf\u001b[39m\u001b[38;5;124m'\u001b[39m\u001b[38;5;124mEstimated radiocarbon ratio: \u001b[39m\u001b[38;5;132;01m{\u001b[39;00mval\u001b[38;5;132;01m}\u001b[39;00m\u001b[38;5;124m +/- \u001b[39m\u001b[38;5;132;01m{\u001b[39;00merr\u001b[38;5;132;01m}\u001b[39;00m\u001b[38;5;124m'\u001b[39m)\n\u001b[1;32m      4\u001b[0m \u001b[38;5;28mprint\u001b[39m(\u001b[38;5;124mf\u001b[39m\u001b[38;5;124m'\u001b[39m\u001b[38;5;124mRelative error: \u001b[39m\u001b[38;5;132;01m{\u001b[39;00m\u001b[38;5;241m100\u001b[39m\u001b[38;5;241m*\u001b[39merr\u001b[38;5;241m/\u001b[39mval\u001b[38;5;132;01m}\u001b[39;00m\u001b[38;5;124m%\u001b[39m\u001b[38;5;124m'\u001b[39m)\n",
      "\u001b[0;31mTypeError\u001b[0m: dblquad() got an unexpected keyword argument 'limit'"
     ]
    }
   ],
   "source": [
    "ln_diskin = LognormalDisKin(mu=-1, sigma=1.5)\n",
    "val, err = integrate.dblquad(ln_diskin.radiocarbon_age_integrand, 0, np.inf, 0, np.inf)\n",
    "print(f'Estimated radiocarbon ratio: {val} +/- {err}')\n",
    "print(f'Relative error: {100*err/val}%')"
   ]
  },
  {
   "cell_type": "code",
   "execution_count": 5,
   "metadata": {},
   "outputs": [
    {
     "data": {
      "text/plain": [
       "QMCQuadResult(integral=30708555.74474452, standard_error=26735272.952454366)"
      ]
     },
     "execution_count": 5,
     "metadata": {},
     "output_type": "execute_result"
    }
   ],
   "source": [
    "ln_diskin = LognormalDisKin(mu=-1, sigma=1.5)\n",
    "result = integrate.qmc_quad(ln_diskin.radiocarbon_age_integrand_mc, [0, 0], [1e6, 1e6],\n",
    "                            n_estimates=1000, n_points=int(1e4))\n",
    "result"
   ]
  },
  {
   "cell_type": "code",
   "execution_count": null,
   "metadata": {},
   "outputs": [],
   "source": []
  }
 ],
 "metadata": {
  "kernelspec": {
   "display_name": "Python 3",
   "language": "python",
   "name": "python3"
  },
  "language_info": {
   "codemirror_mode": {
    "name": "ipython",
    "version": 3
   },
   "file_extension": ".py",
   "mimetype": "text/x-python",
   "name": "python",
   "nbconvert_exporter": "python",
   "pygments_lexer": "ipython3",
   "version": "3.9.18"
  }
 },
 "nbformat": 4,
 "nbformat_minor": 2
}
