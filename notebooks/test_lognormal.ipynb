{
 "cells": [
  {
   "cell_type": "code",
   "execution_count": 9,
   "metadata": {},
   "outputs": [
    {
     "name": "stdout",
     "output_type": "stream",
     "text": [
      "The autoreload extension is already loaded. To reload it, use:\n",
      "  %reload_ext autoreload\n"
     ]
    }
   ],
   "source": [
    "%load_ext autoreload\n",
    "%autoreload 2\n",
    "\n",
    "import matplotlib.pyplot as plt\n",
    "import numpy as np \n",
    "import pandas as pd\n",
    "\n",
    "from scipy import integrate\n",
    "from scipy.special import exp1\n",
    "from scipy import stats\n",
    "from scipy.stats import lognorm\n",
    "from scipy.interpolate import make_interp_spline\n",
    "\n",
    "from models import LognormalDisKin"
   ]
  },
  {
   "cell_type": "code",
   "execution_count": 10,
   "metadata": {},
   "outputs": [
    {
     "name": "stdout",
     "output_type": "stream",
     "text": [
      "30.000000000000014 1000.000000000001\n",
      "-3.295836866004329 1.8725805449485964\n",
      "(1077.1539287695616, 31.132535843132096)\n"
     ]
    }
   ],
   "source": [
    "ln_diskin = LognormalDisKin.from_age_and_transit_time(1000, 30)\n",
    "print(ln_diskin.T, ln_diskin.a)\n",
    "print(ln_diskin.mu, ln_diskin.sigma)\n",
    "\n",
    "#print(ln_diskin.pA(0.1))\n",
    "print(ln_diskin.calc_mean_age())\n"
   ]
  },
  {
   "cell_type": "code",
   "execution_count": 11,
   "metadata": {},
   "outputs": [
    {
     "name": "stderr",
     "output_type": "stream",
     "text": [
      "/Users/flamholz/Library/Python/3.9/lib/python/site-packages/scipy/integrate/_quadpack_py.py:1233: IntegrationWarning: The maximum number of subdivisions (50) has been achieved.\n",
      "  If increasing the limit yields no improvement it is advised to analyze \n",
      "  the integrand in order to determine the difficulties.  If the position of a \n",
      "  local difficulty can be determined (singularity, discontinuity) one will \n",
      "  probably gain from splitting up the interval and calling the integrator \n",
      "  on the subranges.  Perhaps a special-purpose integrator should be used.\n",
      "  quad_r = quad(f, low, high, args=args, full_output=self.full_output,\n"
     ]
    },
    {
     "name": "stdout",
     "output_type": "stream",
     "text": [
      "Estimated radiocarbon ratio: 9.516301365636691 +/- 0.03176929912337112\n",
      "Relative error: 0.333840826416972%\n"
     ]
    }
   ],
   "source": [
    "ln_diskin = LognormalDisKin(mu=-1, sigma=1.5)\n",
    "val, err = ln_diskin.calc_radiocarbon_age()\n",
    "print(f'Estimated radiocarbon ratio: {val} +/- {err}')\n",
    "print(f'Relative error: {100*err/val}%')"
   ]
  },
  {
   "cell_type": "code",
   "execution_count": null,
   "metadata": {},
   "outputs": [],
   "source": []
  }
 ],
 "metadata": {
  "kernelspec": {
   "display_name": "Python 3",
   "language": "python",
   "name": "python3"
  },
  "language_info": {
   "codemirror_mode": {
    "name": "ipython",
    "version": 3
   },
   "file_extension": ".py",
   "mimetype": "text/x-python",
   "name": "python",
   "nbconvert_exporter": "python",
   "pygments_lexer": "ipython3",
   "version": "3.9.18"
  }
 },
 "nbformat": 4,
 "nbformat_minor": 2
}
