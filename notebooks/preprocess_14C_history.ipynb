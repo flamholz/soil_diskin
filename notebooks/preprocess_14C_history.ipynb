{
 "cells": [
  {
   "cell_type": "code",
   "execution_count": null,
   "metadata": {},
   "outputs": [],
   "source": [
    "import pandas as pd"
   ]
  },
  {
   "cell_type": "code",
   "execution_count": 4,
   "metadata": {},
   "outputs": [],
   "source": [
    "# Load the 14C data\n",
    "# TODO: save a sorted version with years before present and column names\n",
    "C14_DATA = pd.read_csv('../data/14C_atm.csv')\n",
    "C14_DATA.columns = ['year', 'Delta_14C']\n",
    "C14_DATA = C14_DATA.dropna().sort_values('year', ascending=True)\n",
    "C14_DATA['years_before_present'] = (C14_DATA.year - C14_DATA.year.max()).abs()\n",
    "C14_DATA['R_14C'] = C14_DATA.Delta_14C / 1000 + 1\n",
    "C14_DATA = C14_DATA.sort_values('year', ascending=False)\n",
    "C14_DATA.to_csv('../data/14C_atm_annot.csv', index=False)"
   ]
  },
  {
   "cell_type": "code",
   "execution_count": null,
   "metadata": {},
   "outputs": [],
   "source": []
  }
 ],
 "metadata": {
  "kernelspec": {
   "display_name": "Python 3",
   "language": "python",
   "name": "python3"
  },
  "language_info": {
   "codemirror_mode": {
    "name": "ipython",
    "version": 3
   },
   "file_extension": ".py",
   "mimetype": "text/x-python",
   "name": "python",
   "nbconvert_exporter": "python",
   "pygments_lexer": "ipython3",
   "version": "3.9.18"
  }
 },
 "nbformat": 4,
 "nbformat_minor": 2
}
